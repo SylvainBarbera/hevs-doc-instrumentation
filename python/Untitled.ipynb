{
 "cells": [
  {
   "cell_type": "markdown",
   "id": "fc433c33-9a14-4c5b-81b2-c7c7de85c4cc",
   "metadata": {},
   "source": [
    "Caractéristiques d'un signal\n",
    "============================"
   ]
  },
  {
   "cell_type": "markdown",
   "id": "af73c5e8-17a3-4284-b36c-95b87aa10415",
   "metadata": {},
   "source": [
    "Temps de réponse"
   ]
  },
  {
   "cell_type": "markdown",
   "id": "573de18b-9093-4fba-9c8c-cdcbf2f55b1d",
   "metadata": {},
   "source": [
    "Bande passante"
   ]
  },
  {
   "cell_type": "code",
   "execution_count": null,
   "id": "8c1f6221-3c01-480f-b2a7-76f969b210dd",
   "metadata": {},
   "outputs": [],
   "source": []
  }
 ],
 "metadata": {
  "kernelspec": {
   "display_name": "Python 3 (ipykernel)",
   "language": "python",
   "name": "python3"
  },
  "language_info": {
   "codemirror_mode": {
    "name": "ipython",
    "version": 3
   },
   "file_extension": ".py",
   "mimetype": "text/x-python",
   "name": "python",
   "nbconvert_exporter": "python",
   "pygments_lexer": "ipython3",
   "version": "3.11.5"
  }
 },
 "nbformat": 4,
 "nbformat_minor": 5
}
