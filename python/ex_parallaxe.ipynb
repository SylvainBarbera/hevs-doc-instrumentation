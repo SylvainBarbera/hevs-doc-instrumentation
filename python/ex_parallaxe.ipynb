{
 "cells": [
  {
   "cell_type": "code",
   "execution_count": 4,
   "id": "9edcdc60-68bb-41af-a5ae-7da46a1c7aca",
   "metadata": {},
   "outputs": [
    {
     "data": {
      "image/png": "[encoded data removed]",
      "text/plain": [
       "<Figure size 640x480 with 1 Axes>"
      ]
     },
     "metadata": {},
     "output_type": "display_data"
    }
   ],
   "source": [
    "# Import des modules nécessaires et définition de fonctions pour tracer les courbes\n",
    "import numpy as np\n",
    "import matplotlib.pyplot as plt\n",
    "import seaborn\n",
    "from sklearn.linear_model import LinearRegression\n",
    "from IPython.display import display, Markdown\n",
    "#import sympy as sp\n",
    "\n",
    "def plotIt(x,y, title=\"sortie\", xlab=\"X\", ylab=\"Y\"):\n",
    "    fig, ax = plt.subplots()\n",
    "    ax.plot(x, y)\n",
    "    ax.set_xlabel(xlab)\n",
    "    ax.set_ylabel(ylab)\n",
    "    ax.set_title(title)\n",
    "    ax.grid(True, which='both')\n",
    "\n",
    "    seaborn.despine(ax=ax, offset=0)\n",
    "\n",
    "def plotScat(x,y, title=\"sortie\", xlab=\"X\", ylab=\"Y\"):\n",
    "    fig, ax = plt.subplots()\n",
    "    ax.scatter(x, y)\n",
    "    ax.set_xlabel(xlab)\n",
    "    ax.set_ylabel(ylab)\n",
    "    ax.set_title(title)\n",
    "    ax.grid(True, which='both')\n",
    "\n",
    "    seaborn.despine(ax=ax, offset=0)\n",
    "\n",
    "def plotIt2(x1,y1,x2,y2,title=\"sortie\", xlab=\"X\", ylab=\"Y\", legends=\"\"):\n",
    "    fig, ax = plt.subplots()\n",
    "    ax.plot(x1, y1, x2,y2)\n",
    "    ax.set_xlabel(xlab)\n",
    "    ax.set_ylabel(ylab)\n",
    "    ax.set_title(title)\n",
    "    ax.grid(True, which='both')\n",
    "    ax.legend(legends)\n",
    "\n",
    "    seaborn.despine(ax=ax, offset=0)\n",
    "\n",
    "def plotIt2s(x1,y1,x2,y2,title=\"sortie\", xlab=\"X\", ylab=\"Y\", legends=\"\"):\n",
    "    fig, ax = plt.subplots()\n",
    "    ax.plot(x1, y1,'rx')\n",
    "    ax.plot(x2, y2)\n",
    "    ax.set_xlabel(xlab)\n",
    "    ax.set_ylabel(ylab)\n",
    "    ax.set_title(title)\n",
    "    ax.grid(True, which='both')\n",
    "    ax.legend(legends)\n",
    "\n",
    "    seaborn.despine(ax=ax, offset=0)\n",
    "\n",
    "a=np.arange(0,10,0.1)\n",
    "b=a**2\n",
    "plotIt(a,b, title=\"test\")"
   ]
  },
  {
   "attachments": {},
   "cell_type": "markdown",
   "id": "ca428f12-5e37-41da-abca-6c9d0fb18bbf",
   "metadata": {},
   "source": [
    "Mesure du diamètre de la tour de la Bâtiaz\n",
    "==========================================\n",
    "\n",
    "    On est sur la plus haute tour de Valère et on veut mesurer le diamètre de la tour des martignerains. Juste pour vérifier qu'elle est bien plus petite...\n",
    "\n",
    "On a une \"parallaxmètre\" qui permet de viser les bords de la tour. On le règle sur 0 pour viser un bord, puis on le tourne pour viser l'autre bord en mesurant l'écart d'angle."
   ]
  },
  {
   "cell_type": "code",
   "execution_count": 31,
   "id": "26c81aa6-108a-4a3c-893a-209b256b2c0a",
   "metadata": {},
   "outputs": [
    {
     "data": {
      "image/png": "[encoded data removed]",
      "text/latex": [
       "$\\displaystyle 1.33630289532294$"
      ],
      "text/plain": [
       "1.3363028953229399"
      ]
     },
     "execution_count": 31,
     "metadata": {},
     "output_type": "execute_result"
    }
   ],
   "source": [
    "# Données à effacer\n",
    "vL=26.94e3\n",
    "vAngle=vHauteurPoteau/vL\n",
    "vAngle*3600"
   ]
  },
  {
   "attachments": {},
   "cell_type": "markdown",
   "id": "2c3b21cf-f2f2-418c-861c-5dd7f8bef48a",
   "metadata": {},
   "source": [
    "## EX1\n",
    "\n",
    "On ne connait pas bien la distance entre Sion et Martigny, mais un espion a mesuré la hauteur d'un poteau à 10m avec une précision de +/-1cm. Ce poteau apparaît sous un angle de 1.34\". Quelle est la distance du poteau (et donc du château) ?"
   ]
  },
  {
   "attachments": {},
   "cell_type": "markdown",
   "id": "c6aa167b-b2b1-403c-a582-630cccf1a220",
   "metadata": {},
   "source": [
    "### Solution"
   ]
  },
  {
   "cell_type": "code",
   "execution_count": 35,
   "id": "a1aedb93-13fb-4528-b58c-b49d113c1853",
   "metadata": {},
   "outputs": [
    {
     "data": {
      "image/png": "[encoded data removed]",
      "text/latex": [
       "$\\displaystyle 26940.0$"
      ],
      "text/plain": [
       "26940.0"
      ]
     },
     "execution_count": 35,
     "metadata": {},
     "output_type": "execute_result"
    }
   ],
   "source": [
    "vHauteurPoteau=10.0\n",
    "vDistance=vHauteurPoteau/vAngle\n",
    "vDistance"
   ]
  },
  {
   "attachments": {},
   "cell_type": "markdown",
   "id": "4f232225-5e90-4a31-b6dd-de2f4e682726",
   "metadata": {},
   "source": [
    "## EX2\n",
    "\n",
    "Quelle est le diamètre de la tour, sachant qu'elle apparaît sous un angle de 1.470\" ?"
   ]
  },
  {
   "attachments": {},
   "cell_type": "markdown",
   "id": "e28491a9-a7bc-4246-a36f-91d8986fcd66",
   "metadata": {},
   "source": [
    "### Solution"
   ]
  },
  {
   "cell_type": "code",
   "execution_count": 36,
   "id": "aca1f81f-64e0-4915-b0e6-0b498be44ecb",
   "metadata": {},
   "outputs": [
    {
     "data": {
      "image/png": "[encoded data removed]",
      "text/latex": [
       "$\\displaystyle 11.0005$"
      ],
      "text/plain": [
       "11.000499999999999"
      ]
     },
     "execution_count": 36,
     "metadata": {},
     "output_type": "execute_result"
    }
   ],
   "source": [
    "vAngleTour=1.47/3600\n",
    "vDiametre=vDistance*vAngleTour\n",
    "vDiametre"
   ]
  },
  {
   "attachments": {},
   "cell_type": "markdown",
   "id": "8bc863fd-9244-4831-b181-fa0dced75d93",
   "metadata": {},
   "source": [
    "### EX3\n",
    "\n",
    "Quelle est la précision de mesure du diamètre si on a la même résolution d'angle que Hypparcos (0.002 \")?"
   ]
  },
  {
   "attachments": {},
   "cell_type": "markdown",
   "id": "350244d3-42f7-4674-b452-41c4f28762a2",
   "metadata": {},
   "source": [
    "### Solution"
   ]
  },
  {
   "cell_type": "code",
   "execution_count": 37,
   "id": "cc85a156-bf4b-484a-a669-0f1f3285050b",
   "metadata": {},
   "outputs": [],
   "source": [
    "vResHypparcos=0.002/3600"
   ]
  },
  {
   "cell_type": "code",
   "execution_count": 38,
   "id": "e0c70f1c-b3f3-468b-8cd5-1812f4ba306f",
   "metadata": {},
   "outputs": [
    {
     "name": "stdout",
     "output_type": "stream",
     "text": [
      "La résolution de mesure est de 0.015m, soit 1.50cm\n"
     ]
    }
   ],
   "source": [
    "dRes = vDistance*vAngleRes\n",
    "print(\"La résolution de mesure est de {:.3f}m, soit {:.2f}cm\".format(dRes, dRes*100))"
   ]
  },
  {
   "cell_type": "code",
   "execution_count": 40,
   "id": "f97a4a9d-9226-40ea-b62e-5cafdf0b6a9b",
   "metadata": {},
   "outputs": [
    {
     "data": {
      "image/png": "[encoded data removed]",
      "text/latex": [
       "$\\displaystyle 10.0400081789078$"
      ],
      "text/plain": [
       "10.040008178907765"
      ]
     },
     "execution_count": 40,
     "metadata": {},
     "output_type": "execute_result"
    }
   ],
   "source": [
    "vD2=(vHauteurPoteau+0.01)/(vAngle-vAngleRes)\n",
    "cDiam2=vD2*(vAngle+vAngleRes)\n",
    "cDiam2"
   ]
  },
  {
   "cell_type": "code",
   "execution_count": 41,
   "id": "d1515465-9193-4673-9918-c561f2b182d8",
   "metadata": {},
   "outputs": [],
   "source": [
    "sommeErreur=0.01/10+vResHypparcos/vAngleTour*2"
   ]
  },
  {
   "cell_type": "code",
   "execution_count": 42,
   "id": "9b89c9a3-8f35-42f3-9478-e155a2ca6c48",
   "metadata": {},
   "outputs": [
    {
     "data": {
      "image/png": "[encoded data removed]",
      "text/latex": [
       "$\\displaystyle 0.00372108843537415$"
      ],
      "text/plain": [
       "0.0037210884353741495"
      ]
     },
     "execution_count": 42,
     "metadata": {},
     "output_type": "execute_result"
    }
   ],
   "source": [
    "sommeErreur"
   ]
  },
  {
   "attachments": {},
   "cell_type": "markdown",
   "id": "c8a52518-5ce7-4f4f-a6a7-b87b96b1ce94",
   "metadata": {},
   "source": [
    "### EX4\n",
    "\n",
    "Quelle facteurs peuvent encore fausser cette mesure, est-ce qu'ils sont négligeables ?"
   ]
  },
  {
   "cell_type": "code",
   "execution_count": 43,
   "id": "57368ed0-f014-445f-8619-bff9e313892e",
   "metadata": {},
   "outputs": [
    {
     "data": {
      "text/plain": [
       "\"précision de visée, atmosphère, définition du bord de la tour (relief), attention de l'opérateur\""
      ]
     },
     "execution_count": 43,
     "metadata": {},
     "output_type": "execute_result"
    }
   ],
   "source": [
    "#Effacer\n",
    "\"précision de visée, atmosphère, définition du bord de la tour (relief), attention de l'opérateur\""
   ]
  },
  {
   "cell_type": "code",
   "execution_count": null,
   "id": "a1c9481a-cfa2-4b9d-98fa-991e9ac792bc",
   "metadata": {},
   "outputs": [],
   "source": []
  }
 ],
 "metadata": {
  "kernelspec": {
   "display_name": "Python 3 (ipykernel)",
   "language": "python",
   "name": "python3"
  },
  "language_info": {
   "codemirror_mode": {
    "name": "ipython",
    "version": 3
   },
   "file_extension": ".py",
   "mimetype": "text/x-python",
   "name": "python",
   "nbconvert_exporter": "python",
   "pygments_lexer": "ipython3",
   "version": "3.11.2"
  }
 },
 "nbformat": 4,
 "nbformat_minor": 5
}
