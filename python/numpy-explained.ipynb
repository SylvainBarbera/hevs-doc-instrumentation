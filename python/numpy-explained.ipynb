{
 "cells": [
  {
   "cell_type": "markdown",
   "metadata": {},
   "source": [
    "# numpy pour les nuls\n",
    "\n",
    "Référence : https://numpy.org/doc/stable/reference/"
   ]
  },
  {
   "cell_type": "code",
   "execution_count": 2,
   "metadata": {},
   "outputs": [],
   "source": [
    "import numpy as np"
   ]
  },
  {
   "cell_type": "markdown",
   "metadata": {},
   "source": [
    "Définition d'un \"array\" avec des valeurs croissantes"
   ]
  },
  {
   "cell_type": "code",
   "execution_count": 13,
   "metadata": {},
   "outputs": [
    {
     "data": {
      "text/plain": [
       "[array([0. , 0.1, 0.2, 0.3, 0.4, 0.5, 0.6, 0.7, 0.8, 0.9, 1. , 1.1, 1.2,\n",
       "        1.3, 1.4, 1.5, 1.6, 1.7, 1.8, 1.9, 2. , 2.1, 2.2, 2.3, 2.4, 2.5,\n",
       "        2.6, 2.7, 2.8, 2.9, 3. , 3.1, 3.2, 3.3, 3.4, 3.5, 3.6, 3.7, 3.8,\n",
       "        3.9, 4. , 4.1, 4.2, 4.3, 4.4, 4.5, 4.6, 4.7, 4.8, 4.9, 5. , 5.1,\n",
       "        5.2, 5.3, 5.4, 5.5, 5.6, 5.7, 5.8, 5.9, 6. , 6.1, 6.2, 6.3, 6.4,\n",
       "        6.5, 6.6, 6.7, 6.8, 6.9, 7. , 7.1, 7.2, 7.3, 7.4, 7.5, 7.6, 7.7,\n",
       "        7.8, 7.9, 8. , 8.1, 8.2, 8.3, 8.4, 8.5, 8.6, 8.7, 8.8, 8.9, 9. ,\n",
       "        9.1, 9.2, 9.3, 9.4, 9.5, 9.6, 9.7, 9.8, 9.9]),\n",
       " array([ 1. ,  1.3,  1.6,  1.9,  2.2,  2.5,  2.8,  3.1,  3.4,  3.7,  4. ,\n",
       "         4.3,  4.6,  4.9,  5.2,  5.5,  5.8,  6.1,  6.4,  6.7,  7. ,  7.3,\n",
       "         7.6,  7.9,  8.2,  8.5,  8.8,  9.1,  9.4,  9.7, 10. , 10.3, 10.6,\n",
       "        10.9, 11.2, 11.5, 11.8, 12.1, 12.4, 12.7, 13. , 13.3, 13.6, 13.9,\n",
       "        14.2, 14.5, 14.8, 15.1, 15.4, 15.7, 16. , 16.3, 16.6, 16.9, 17.2,\n",
       "        17.5, 17.8, 18.1, 18.4, 18.7, 19. , 19.3, 19.6, 19.9, 20.2, 20.5,\n",
       "        20.8, 21.1, 21.4, 21.7, 22. , 22.3, 22.6, 22.9, 23.2, 23.5, 23.8,\n",
       "        24.1, 24.4, 24.7, 25. , 25.3, 25.6, 25.9, 26.2, 26.5, 26.8, 27.1,\n",
       "        27.4, 27.7, 28. , 28.3, 28.6, 28.9, 29.2, 29.5, 29.8, 30.1, 30.4,\n",
       "        30.7])]"
      ]
     },
     "execution_count": 13,
     "metadata": {},
     "output_type": "execute_result"
    }
   ],
   "source": [
    "x=np.arange(0,10,0.1)\n",
    "y=x*3+1\n",
    "[x,y]"
   ]
  },
  {
   "cell_type": "markdown",
   "metadata": {},
   "source": [
    "Définition d'une fonction "
   ]
  },
  {
   "cell_type": "code",
   "execution_count": 14,
   "metadata": {},
   "outputs": [],
   "source": [
    "# Définir une fonction et plotter le résultat\n",
    "def fy(X):\n",
    "    return X**2/10+1\n",
    "\n",
    "y=fy(x)"
   ]
  },
  {
   "cell_type": "code",
   "execution_count": 15,
   "metadata": {},
   "outputs": [
    {
     "data": {
      "text/plain": [
       "array([ 1.   ,  1.001,  1.004,  1.009,  1.016,  1.025,  1.036,  1.049,\n",
       "        1.064,  1.081,  1.1  ,  1.121,  1.144,  1.169,  1.196,  1.225,\n",
       "        1.256,  1.289,  1.324,  1.361,  1.4  ,  1.441,  1.484,  1.529,\n",
       "        1.576,  1.625,  1.676,  1.729,  1.784,  1.841,  1.9  ,  1.961,\n",
       "        2.024,  2.089,  2.156,  2.225,  2.296,  2.369,  2.444,  2.521,\n",
       "        2.6  ,  2.681,  2.764,  2.849,  2.936,  3.025,  3.116,  3.209,\n",
       "        3.304,  3.401,  3.5  ,  3.601,  3.704,  3.809,  3.916,  4.025,\n",
       "        4.136,  4.249,  4.364,  4.481,  4.6  ,  4.721,  4.844,  4.969,\n",
       "        5.096,  5.225,  5.356,  5.489,  5.624,  5.761,  5.9  ,  6.041,\n",
       "        6.184,  6.329,  6.476,  6.625,  6.776,  6.929,  7.084,  7.241,\n",
       "        7.4  ,  7.561,  7.724,  7.889,  8.056,  8.225,  8.396,  8.569,\n",
       "        8.744,  8.921,  9.1  ,  9.281,  9.464,  9.649,  9.836, 10.025,\n",
       "       10.216, 10.409, 10.604, 10.801])"
      ]
     },
     "execution_count": 15,
     "metadata": {},
     "output_type": "execute_result"
    }
   ],
   "source": [
    "y"
   ]
  },
  {
   "cell_type": "code",
   "execution_count": 17,
   "metadata": {},
   "outputs": [],
   "source": [
    "# autre fonction\n",
    "def fy(X):\n",
    "    return np.sqrt(1/(X**2/10+1))\n",
    "\n",
    "y=fy(x)"
   ]
  },
  {
   "cell_type": "code",
   "execution_count": 18,
   "metadata": {},
   "outputs": [
    {
     "data": {
      "text/plain": [
       "array([1.        , 0.99950037, 0.99800598, 0.99553015, 0.99209474,\n",
       "       0.9877296 , 0.98247186, 0.97636512, 0.96945842, 0.96180527,\n",
       "       0.95346259, 0.94448963, 0.93494699, 0.92489567, 0.91439619,\n",
       "       0.9035079 , 0.89228826, 0.88079236, 0.8690725 , 0.85717784,\n",
       "       0.84515425, 0.83304413, 0.82088638, 0.80871641, 0.79656623,\n",
       "       0.78446454, 0.77243687, 0.76050575, 0.74869094, 0.73700953,\n",
       "       0.72547625, 0.71410357, 0.70290195, 0.69188001, 0.68104471,\n",
       "       0.67040152, 0.6599546 , 0.64970689, 0.6396603 , 0.62981584,\n",
       "       0.62017367, 0.61073329, 0.60149356, 0.59245283, 0.58360899,\n",
       "       0.57495957, 0.56650178, 0.55823253, 0.55014856, 0.54224641,\n",
       "       0.53452248, 0.52697309, 0.51959446, 0.51238277, 0.50533416,\n",
       "       0.49844479, 0.49171079, 0.48512833, 0.47869361, 0.47240287,\n",
       "       0.4662524 , 0.46023856, 0.45435774, 0.44860644, 0.44298119,\n",
       "       0.43747864, 0.43209547, 0.42682847, 0.42167451, 0.4166305 ,\n",
       "       0.41169348, 0.40686055, 0.40212888, 0.39749572, 0.3929584 ,\n",
       "       0.38851434, 0.38416102, 0.379896  , 0.37571689, 0.37162141,\n",
       "       0.36760731, 0.36367243, 0.35981467, 0.35603199, 0.35232241,\n",
       "       0.34868402, 0.34511496, 0.34161342, 0.33817767, 0.334806  ,\n",
       "       0.33149677, 0.3282484 , 0.32505933, 0.32192807, 0.31885317,\n",
       "       0.31583322, 0.31286686, 0.30995275, 0.30708962, 0.30427622])"
      ]
     },
     "execution_count": 18,
     "metadata": {},
     "output_type": "execute_result"
    }
   ],
   "source": [
    "y"
   ]
  },
  {
   "cell_type": "markdown",
   "metadata": {},
   "source": [
    "Plot des résultats avec matplotlib"
   ]
  },
  {
   "cell_type": "code",
   "execution_count": 19,
   "metadata": {},
   "outputs": [],
   "source": [
    "import matplotlib.pyplot as plt"
   ]
  },
  {
   "cell_type": "code",
   "execution_count": 20,
   "metadata": {},
   "outputs": [
    {
     "data": {
      "text/plain": [
       "[<matplotlib.lines.Line2D at 0x1927d202e10>]"
      ]
     },
     "execution_count": 20,
     "metadata": {},
     "output_type": "execute_result"
    },
    {
     "data": {
      "image/png": "[encoded data removed]",
      "text/plain": [
       "<Figure size 640x480 with 1 Axes>"
      ]
     },
     "metadata": {},
     "output_type": "display_data"
    }
   ],
   "source": [
    "plt.plot(x,y)"
   ]
  },
  {
   "cell_type": "code",
   "execution_count": null,
   "metadata": {},
   "outputs": [],
   "source": []
  }
 ],
 "metadata": {
  "kernelspec": {
   "display_name": "Python 3",
   "language": "python",
   "name": "python3"
  },
  "language_info": {
   "codemirror_mode": {
    "name": "ipython",
    "version": 3
   },
   "file_extension": ".py",
   "mimetype": "text/x-python",
   "name": "python",
   "nbconvert_exporter": "python",
   "pygments_lexer": "ipython3",
   "version": "3.11.5"
  },
  "orig_nbformat": 4
 },
 "nbformat": 4,
 "nbformat_minor": 2
}
